{
 "cells": [
  {
   "cell_type": "code",
   "execution_count": 2,
   "metadata": {},
   "outputs": [],
   "source": [
    "import cv2\n",
    "import glob\n",
    "import numpy as np\n",
    " \n",
    "def calibrate_camera(images_folder, row = 5, col = 7, scale= 4.5,show=False):\n",
    "    images_names = sorted(glob.glob(images_folder))\n",
    "    \n",
    "    images = []\n",
    "    for imname in images_names:\n",
    "        im = cv2.imread(imname, 1)\n",
    "        images.append(im)\n",
    " \n",
    "    #criteria used by checkerboard pattern detector.\n",
    "    #Change this if the code can't find the checkerboard\n",
    "    criteria = (cv2.TERM_CRITERIA_EPS + cv2.TERM_CRITERIA_MAX_ITER, 30, 0.001)\n",
    " \n",
    "    rows = row #number of checkerboard rows.\n",
    "    columns = col #number of checkerboard columns.\n",
    "    world_scaling = scale # real world square size.\n",
    " \n",
    "    #coordinates of squares in the checkerboard world space\n",
    "    objp = np.zeros((rows*columns,3), np.float32)\n",
    "    objp[:,:2] = np.mgrid[0:rows,0:columns].T.reshape(-1,2)\n",
    "    objp = world_scaling* objp\n",
    "\n",
    "    #frame dimensions. Frames should be the same size.\n",
    "    width = images[0].shape[1]\n",
    "    height = images[0].shape[0]\n",
    " \n",
    "    #Pixel coordinates of checkerboards\n",
    "    imgpoints = [] # 2d points in image plane.\n",
    " \n",
    "    #coordinates of the checkerboard in checkerboard world space.\n",
    "    objpoints = [] # 3d point in real world space\n",
    "    i=0\n",
    "    get = []\n",
    "    for frame in images:\n",
    "        \n",
    "        gray = cv2.cvtColor(frame, cv2.COLOR_BGR2GRAY)\n",
    "        \n",
    "        # detectChessboardflags = (cv2.CALIB_CB_ACCURACY  \n",
    "        # + cv2.CALIB_CB_EXHAUSTIVE  \n",
    "        # + cv2.CALIB_CB_NORMALIZE_IMAGE)\n",
    " \n",
    "        # ret, corners = cv2.findChessboardCornersSB(gray, (rows, columns), detectChessboardflags)\n",
    "\n",
    "        flags = (cv2.CALIB_CB_ADAPTIVE_THRESH  \n",
    "        + cv2.CALIB_CB_FAST_CHECK  \n",
    "        + cv2.CALIB_CB_NORMALIZE_IMAGE)\n",
    " \n",
    "        #find the checkerboard\n",
    "        ret, corners = cv2.findChessboardCorners(gray, (rows, columns), flags)\n",
    " \n",
    " \n",
    "        if ret == True:\n",
    "            get.append(images_names[i])\n",
    "            #Convolution size used to improve corner detection. Don't make this too large.\n",
    "            conv_size = (11, 11)\n",
    " \n",
    "            #opencv can attempt to improve the checkerboard coordinates\n",
    "            corners = cv2.cornerSubPix(gray, corners, conv_size, (-1, -1), criteria)\n",
    "            cv2.drawChessboardCorners(frame, (rows,columns), corners, ret)\n",
    "            if show:\n",
    "                cv2.imshow('img', frame)\n",
    "                cv2.waitKey(0)\n",
    " \n",
    "            objpoints.append(objp)\n",
    "            imgpoints.append(corners)\n",
    "        i += 1\n",
    " \n",
    "    cv2.destroyAllWindows()\n",
    "    print('detected {n} :'.format(n=len(get)))\n",
    "    e = 0\n",
    "    for b in get:\n",
    "        print(b)\n",
    "        e +=1\n",
    "        \n",
    " \n",
    " \n"
   ]
  },
  {
   "cell_type": "code",
   "execution_count": 3,
   "metadata": {},
   "outputs": [
    {
     "name": "stdout",
     "output_type": "stream",
     "text": [
      "detected 17 :\n",
      "./data/ukur_jarak/j\\IMG_20230529_100634.jpg\n",
      "./data/ukur_jarak/j\\IMG_20230529_100708.jpg\n",
      "./data/ukur_jarak/j\\IMG_20230529_100721.jpg\n",
      "./data/ukur_jarak/j\\IMG_20230529_100729.jpg\n",
      "./data/ukur_jarak/j\\IMG_20230529_100739.jpg\n",
      "./data/ukur_jarak/j\\IMG_20230529_100748.jpg\n",
      "./data/ukur_jarak/j\\IMG_20230529_100757.jpg\n",
      "./data/ukur_jarak/j\\IMG_20230529_100805.jpg\n",
      "./data/ukur_jarak/j\\IMG_20230529_100814.jpg\n",
      "./data/ukur_jarak/j\\IMG_20230529_100824.jpg\n",
      "./data/ukur_jarak/j\\IMG_20230529_100834.jpg\n",
      "./data/ukur_jarak/j\\IMG_20230529_100849.jpg\n",
      "./data/ukur_jarak/j\\IMG_20230529_100900.jpg\n",
      "./data/ukur_jarak/j\\IMG_20230529_100908.jpg\n",
      "./data/ukur_jarak/j\\IMG_20230529_100916.jpg\n",
      "./data/ukur_jarak/j\\IMG_20230529_100925.jpg\n",
      "./data/ukur_jarak/j\\IMG_20230529_100943.jpg\n"
     ]
    }
   ],
   "source": [
    "calibrate_camera(images_folder = './data/ukur_jarak/j/*',show= True)"
   ]
  },
  {
   "cell_type": "code",
   "execution_count": 5,
   "metadata": {},
   "outputs": [
    {
     "name": "stdout",
     "output_type": "stream",
     "text": [
      "detected 17 :\n",
      "./data/ukur_jarak/m\\IMG_20230529_100623.jpg\n",
      "./data/ukur_jarak/m\\IMG_20230529_100705.jpg\n",
      "./data/ukur_jarak/m\\IMG_20230529_100718.jpg\n",
      "./data/ukur_jarak/m\\IMG_20230529_100728.jpg\n",
      "./data/ukur_jarak/m\\IMG_20230529_100737.jpg\n",
      "./data/ukur_jarak/m\\IMG_20230529_100747.jpg\n",
      "./data/ukur_jarak/m\\IMG_20230529_100755.jpg\n",
      "./data/ukur_jarak/m\\IMG_20230529_100803.jpg\n",
      "./data/ukur_jarak/m\\IMG_20230529_100812.jpg\n",
      "./data/ukur_jarak/m\\IMG_20230529_100822.jpg\n",
      "./data/ukur_jarak/m\\IMG_20230529_100831.jpg\n",
      "./data/ukur_jarak/m\\IMG_20230529_100847.jpg\n",
      "./data/ukur_jarak/m\\IMG_20230529_100859.jpg\n",
      "./data/ukur_jarak/m\\IMG_20230529_100906.jpg\n",
      "./data/ukur_jarak/m\\IMG_20230529_100914.jpg\n",
      "./data/ukur_jarak/m\\IMG_20230529_100924.jpg\n",
      "./data/ukur_jarak/m\\IMG_20230529_100942.jpg\n"
     ]
    }
   ],
   "source": [
    "calibrate_camera(images_folder = './data/ukur_jarak/m/*', show= True)"
   ]
  },
  {
   "cell_type": "code",
   "execution_count": 6,
   "metadata": {},
   "outputs": [
    {
     "name": "stdout",
     "output_type": "stream",
     "text": [
      "detected 17 :\n",
      "./data/ukur_jarak/w\\IMG_20230529_100654.jpg\n",
      "./data/ukur_jarak/w\\IMG_20230529_100708.jpg\n",
      "./data/ukur_jarak/w\\IMG_20230529_100718.jpg\n",
      "./data/ukur_jarak/w\\IMG_20230529_100728.jpg\n",
      "./data/ukur_jarak/w\\IMG_20230529_100736.jpg\n",
      "./data/ukur_jarak/w\\IMG_20230529_100748.jpg\n",
      "./data/ukur_jarak/w\\IMG_20230529_100755.jpg\n",
      "./data/ukur_jarak/w\\IMG_20230529_100805.jpg\n",
      "./data/ukur_jarak/w\\IMG_20230529_100814.jpg\n",
      "./data/ukur_jarak/w\\IMG_20230529_100823.jpg\n",
      "./data/ukur_jarak/w\\IMG_20230529_100832.jpg\n",
      "./data/ukur_jarak/w\\IMG_20230529_100847.jpg\n",
      "./data/ukur_jarak/w\\IMG_20230529_100859.jpg\n",
      "./data/ukur_jarak/w\\IMG_20230529_100907.jpg\n",
      "./data/ukur_jarak/w\\IMG_20230529_100914.jpg\n",
      "./data/ukur_jarak/w\\IMG_20230529_100923.jpg\n",
      "./data/ukur_jarak/w\\IMG_20230529_100942.jpg\n"
     ]
    }
   ],
   "source": [
    "calibrate_camera(images_folder = './data/ukur_jarak/w/*', show= True)"
   ]
  },
  {
   "cell_type": "code",
   "execution_count": null,
   "metadata": {},
   "outputs": [],
   "source": []
  }
 ],
 "metadata": {
  "kernelspec": {
   "display_name": "cv",
   "language": "python",
   "name": "python3"
  },
  "language_info": {
   "codemirror_mode": {
    "name": "ipython",
    "version": 3
   },
   "file_extension": ".py",
   "mimetype": "text/x-python",
   "name": "python",
   "nbconvert_exporter": "python",
   "pygments_lexer": "ipython3",
   "version": "3.10.6"
  },
  "orig_nbformat": 4
 },
 "nbformat": 4,
 "nbformat_minor": 2
}
